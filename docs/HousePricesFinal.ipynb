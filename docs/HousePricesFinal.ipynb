{
  "cells": [
    {
      "cell_type": "code",
      "execution_count": null,
      "metadata": {
        "colab": {
          "base_uri": "https://localhost:8080/"
        },
        "id": "jo-mOkF17J6l",
        "outputId": "a622082f-38ee-4b67-c9c8-eb65342c0c00"
      },
      "outputs": [
        {
          "output_type": "stream",
          "name": "stdout",
          "text": [
            "Collecting prml\n",
            "  Cloning https://github.com/pantelis-classes/PRML.git to /tmp/pip-install-92pe90sy/prml_6e37f64c1bfc47349aa3b1a779c19815\n",
            "  Running command git clone -q https://github.com/pantelis-classes/PRML.git /tmp/pip-install-92pe90sy/prml_6e37f64c1bfc47349aa3b1a779c19815\n",
            "Requirement already satisfied: numpy in /usr/local/lib/python3.7/dist-packages (from prml) (1.21.6)\n",
            "Requirement already satisfied: scipy in /usr/local/lib/python3.7/dist-packages (from prml) (1.4.1)\n"
          ]
        }
      ],
      "source": [
        "!pip install git+https://github.com/pantelis-classes/PRML.git#egg=prml\n",
        "\n",
        "import pandas as pd\n",
        "from pandas.core.dtypes.dtypes import CategoricalDtype\n",
        "import numpy as np\n",
        "\n",
        "import matplotlib.pyplot as plt\n",
        "\n",
        "from sklearn.model_selection import cross_val_predict\n",
        "from sklearn import linear_model\n",
        "\n",
        "from sklearn.metrics import mean_squared_error\n",
        "from sklearn.model_selection import train_test_split\n",
        "\n",
        "from hyperopt import STATUS_OK, Trials, fmin, hp, tpe\n",
        "\n",
        "from prml.preprocess import GaussianFeature, PolynomialFeature, SigmoidalFeature\n",
        "from prml.linear import LinearRegression\n",
        "\n",
        "from xgboost import XGBRegressor\n",
        "\n",
        "import jax\n",
        "import jax.numpy as jnp\n",
        "\n",
        "import warnings\n",
        "warnings.filterwarnings('ignore')"
      ]
    },
    {
      "cell_type": "markdown",
      "metadata": {
        "id": "K94z3l5Z3Ik9"
      },
      "source": [
        "# 1.0 Data Exploration"
      ]
    },
    {
      "cell_type": "code",
      "execution_count": null,
      "metadata": {
        "id": "qRSa0HOT3S4q"
      },
      "outputs": [],
      "source": [
        "# Read our train data for data visualization\n",
        "train_df = pd.read_csv(\"https://raw.githubusercontent.com/hahdookin/cs301/main/train.csv\", index_col='Id')"
      ]
    },
    {
      "cell_type": "code",
      "execution_count": null,
      "metadata": {
        "colab": {
          "base_uri": "https://localhost:8080/",
          "height": 277
        },
        "id": "GnedSZr53VoR",
        "outputId": "32403d4d-a0b4-4e77-ac9e-f6e4e43f7ebf"
      },
      "outputs": [
        {
          "output_type": "display_data",
          "data": {
            "text/plain": [
              "<Figure size 432x288 with 1 Axes>"
            ],
            "image/png": "[encoded data removed]"
          },
          "metadata": {}
        }
      ],
      "source": [
        "# Through the following pie chart, it is evident that over half of our dataset\n",
        "# consists of non-numeric columns, which will not be used in a regression algorithm.\n",
        "\n",
        "# After visualizing the amount of categorical data, it is clear that simply ignoring\n",
        "# columns that contain categorical data will severly hinder the success of our \n",
        "# model. We will eventually need to develop a strategy for encoding the categorical\n",
        "# data types to numeric values that the regression model can work with.\n",
        "\n",
        "# Pie chart to visualize numeric types vs categorical types\n",
        "train_df.dtypes.unique()[0].name\n",
        "\n",
        "dtypes = [dtype.name for dtype in train_df.dtypes.unique()]\n",
        "counts = [len(train_df.select_dtypes(dtype).iloc[0]) for dtype in dtypes]\n",
        "explode = [0.1 if dtype == 'object' else 0 for dtype in dtypes]\n",
        "dtypes = [name if name != 'object' else 'category' for name in dtypes]\n",
        "fig1, ax1 = plt.subplots()\n",
        "ax1.pie(counts, labels=dtypes, autopct='%1.1f%%', shadow=True, startangle=90, explode=explode)\n",
        "ax1.axis('equal')\n",
        "\n",
        "plt.title('Data type distribution', pad=20)\n",
        "plt.show()"
      ]
    },
    {
      "cell_type": "code",
      "execution_count": null,
      "metadata": {
        "colab": {
          "base_uri": "https://localhost:8080/",
          "height": 365
        },
        "id": "fetYQDut3uvU",
        "outputId": "1bca8693-2920-4a67-ee8e-a8abcb6ff9b8"
      },
      "outputs": [
        {
          "output_type": "display_data",
          "data": {
            "text/plain": [
              "<Figure size 432x288 with 1 Axes>"
            ],
            "image/png": "[encoded data removed]"
          },
          "metadata": {
            "needs_background": "light"
          }
        }
      ],
      "source": [
        "# In order to think about how to handle missing values in the dataset, we are going\n",
        "# to chart which columns have the most missing values. By doing this, we are able \n",
        "# to determine a strategy for handling the missing values.\n",
        "\n",
        "# Grab all the columns with missing values and find how NA values are in each row\n",
        "cols_with_na = {}\n",
        "for col in train_df:\n",
        "  if train_df[col].isna().any():\n",
        "    cols_with_na[col] = sum(train_df[col].isna())\n",
        "\n",
        "# Filter out colums with not a lot of missing values (prettier graph)\n",
        "remove = [k for k,v in cols_with_na.items() if v < 200]\n",
        "for k in remove:\n",
        "  cols_with_na.pop(k)\n",
        "\n",
        "# Sort values in descending order\n",
        "cols_with_na = {k: v for k, v in sorted(cols_with_na.items(), key=lambda item: item[1], reverse=True)}\n",
        "\n",
        "fig = plt.figure()\n",
        "ax = fig.add_axes([0, 0, 1, 1])\n",
        "ax.bar(cols_with_na.keys(), cols_with_na.values())\n",
        "plt.title('Missing value columns')\n",
        "plt.xlabel('Columns')\n",
        "plt.ylabel('Missing values')\n",
        "plt.show()"
      ]
    },
    {
      "cell_type": "markdown",
      "metadata": {
        "id": "O8sJXmwf31_h"
      },
      "source": [
        "# 1.1 Data Preprocessing"
      ]
    },
    {
      "cell_type": "code",
      "execution_count": null,
      "metadata": {
        "id": "UA_rwDxx7ToL"
      },
      "outputs": [],
      "source": [
        "#data preprocess with label encoding and one-hot encoding\n",
        "from pandas.core.dtypes.dtypes import CategoricalDtype\n",
        "\n",
        "def InitData(encoding):\n",
        "  df = pd.read_csv(\"https://raw.githubusercontent.com/hahdookin/cs301/main/train.csv\", index_col='Id')\n",
        "\n",
        "  # Drop ID column\n",
        "  if 'Id' in df.columns:\n",
        "    df = df.drop('Id', axis=1)\n",
        "\n",
        "  # Fix typo in dataset\n",
        "  df['Exterior2nd'] = df['Exterior2nd'].replace({'Brk Cmn': 'BrkComm'})\n",
        "\n",
        "  # Now, we need to go through the data and split the categorical columns that\n",
        "  # have a natural ordering (ordinal) and those that do not (nominative)\n",
        "  nominative_features = [\n",
        "    'MSSubClass', 'MSZoning', 'Street', 'Alley', 'LandContour', 'LotConfig', \n",
        "    'Neighborhood', 'Condition1', 'Condition2', 'BldgType', 'HouseStyle', \n",
        "    'RoofStyle', 'RoofMatl', 'Exterior1st', 'Exterior2nd', 'MasVnrType', \n",
        "    'Foundation', 'Heating', 'CentralAir', 'GarageType', 'MiscFeature', \n",
        "    'SaleType', 'SaleCondition'\n",
        "  ]\n",
        "\n",
        "  # Commonly used values for 5 and 10 quality levels\n",
        "  quality5 = ['Ex', 'Gd', 'TA', 'Fa', 'Po']\n",
        "  quality10 = [10, 9, 8, 7, 6, 5, 4, 3, 2, 1]\n",
        "  \n",
        "  # All ordinal category lists go from best to worst.\n",
        "  # i.e. Gd -> 0, Av -> 1, Mn -> 2, etc.\n",
        "  ordinal_features = {\n",
        "    'LotShape': ['Reg', 'IR1', 'IR2', 'IR3'],\n",
        "    'Utilities': ['AllPub', 'NoSewr', 'NoSeWa', 'ELO'],\n",
        "    'LandSlope': ['Gtl', 'Mod', 'Sev'],\n",
        "    'OverallQual': quality10,\n",
        "    'OverallCond': quality10,\n",
        "    'ExterQual': quality5,\n",
        "    'ExterCond': quality5,\n",
        "    'BsmtQual': quality5,\n",
        "    'BsmtCond': quality5,\n",
        "    'BsmtExposure': ['Gd', 'Av', 'Mn', 'No'],\n",
        "    'BsmtFinType1': ['GLQ', 'ALQ', 'BLQ', 'Rec', 'LwQ', 'Unf'],\n",
        "    'BsmtFinType2': ['GLQ', 'ALQ', 'BLQ', 'Rec', 'LwQ', 'Unf'],\n",
        "    'HeatingQC': quality5,\n",
        "    'Electrical': ['SBrkr', 'FuseA', 'FuseF', 'FuseP', 'Mix'],\n",
        "    'KitchenQual': quality5,\n",
        "    'Functional': ['Typ', 'Min1', 'Min2', 'Mod', 'Maj1', 'Maj2', 'Sev', 'Sal'],\n",
        "    'FireplaceQu': quality5,\n",
        "    'GarageFinish': ['Fin', 'RFn', 'Unf'],\n",
        "    'GarageQual': quality5,\n",
        "    'GarageCond': quality5,\n",
        "    'PavedDrive': ['Y', 'P', 'N'],\n",
        "    'PoolQC': quality5,\n",
        "    'Fence': ['GdPrv', 'MnPrv', 'GdWo', 'MnWw'],\n",
        "  }\n",
        "\n",
        "  # Add 'None' as a possible category to be used to assign missing values to.\n",
        "  for key, val in ordinal_features.items():\n",
        "    if 'None' not in ordinal_features[key]:\n",
        "      ordinal_features[key] = val + ['None'];\n",
        "  \n",
        "  # Convert nominative features to category\n",
        "  for col in nominative_features:\n",
        "    df[col] = df[col].astype('category')\n",
        "    if 'None' not in df[col].cat.categories:\n",
        "      df[col].cat.add_categories('None', inplace=True)\n",
        "    \n",
        "  for col, values in ordinal_features.items():\n",
        "    df[col] = df[col].astype(CategoricalDtype(values, ordered=True))\n",
        "\n",
        "  # Impute ALL missing values in categorical types to simply be 'None'\n",
        "  for col in df.select_dtypes('category'):\n",
        "    df[col] = df[col].fillna('None')\n",
        "\n",
        "  # Impute numerical features\n",
        "  # LotFrontage can be set to 0 (House has 0 feet of street connected to it)\n",
        "  df['LotFrontage'] = df['LotFrontage'].fillna(0)\n",
        "  # MasVnrArea can be set to 0 (House has no masonry veneer, so 0 sqft)\n",
        "  df['MasVnrArea'] = df['MasVnrArea'].fillna(0)\n",
        "  # GarageYrBuilt can be set to the year the house was built\n",
        "  # (Would not make sense to set these missing values to 0)\n",
        "  df['GarageYrBlt'] = df['GarageYrBlt'].fillna(df['YearBuilt'])\n",
        "\n",
        "  # Confirm we aren't missing any values\n",
        "  assert len([v for v in df.isna().any() if v]) == 0, \"Still missing values\"\n",
        "\n",
        "  # Apply the appropriate encoding\n",
        "  if encoding == 'label':\n",
        "    # handle label encoding\n",
        "    for col in df.select_dtypes('category'):\n",
        "      df[col] = df[col].cat.codes\n",
        "  elif encoding == 'onehot':\n",
        "    # Store SalePrice\n",
        "    saleprice = df['SalePrice']\n",
        "    df = df.drop('SalePrice', axis=1)\n",
        "    # handle one hot\n",
        "    for col in df.select_dtypes('category'):\n",
        "      dummies = pd.get_dummies(df[col], prefix=col)\n",
        "      df = df.drop(col, axis=1)\n",
        "      df = df.join(dummies)\n",
        "    df = df.join(saleprice)\n",
        "  elif encoding == 'both':\n",
        "    # one-hot nominative\n",
        "    saleprice = df['SalePrice']\n",
        "    df = df.drop('SalePrice', axis=1)\n",
        "    for col in nominative_features:\n",
        "      dummies = pd.get_dummies(df[col], prefix=col)\n",
        "      df = df.drop(col, axis=1)\n",
        "      df = df.join(dummies)\n",
        "    df = df.join(saleprice)\n",
        "    # label encode ordinals\n",
        "    for col in ordinal_features.keys():\n",
        "      df[col] = df[col].cat.codes\n",
        "\n",
        "  return df\n",
        "\n",
        "def rmse(pred, test):\n",
        "  test = test.to_numpy()\n",
        "  return jnp.mean(jnp.sqrt(jnp.square(pred - test)))"
      ]
    },
    {
      "cell_type": "code",
      "execution_count": null,
      "metadata": {
        "id": "QLjNjhK3vZcB"
      },
      "outputs": [],
      "source": [
        "#preliminary cross validation: using cross validation & linear regression\n",
        "lr = linear_model.LinearRegression()"
      ]
    },
    {
      "cell_type": "code",
      "execution_count": null,
      "metadata": {
        "colab": {
          "base_uri": "https://localhost:8080/"
        },
        "id": "CbWf31MkvayF",
        "outputId": "e878adb9-7bf6-425c-b3b3-3b2dcd1ecdcd"
      },
      "outputs": [
        {
          "output_type": "stream",
          "name": "stdout",
          "text": [
            "(1460, 81)\n"
          ]
        }
      ],
      "source": [
        "#preliminary cross validation: the training data was used for this preliminary step\n",
        "trainCrossVal_df = pd.read_csv(\"https://raw.githubusercontent.com/hahdookin/cs301/main/train.csv\")\n",
        "\n",
        "print(trainCrossVal_df.shape)\n",
        "\n",
        "trainCrossVal_df = InitData('label')\n",
        "\n",
        "#print(train_df.shape)\n",
        "\n",
        "lr = linear_model.LinearRegression()\n",
        "X, y = trainCrossVal_df.iloc[:, :-1].values, trainCrossVal_df.iloc[:, -1]"
      ]
    },
    {
      "cell_type": "code",
      "execution_count": null,
      "metadata": {
        "colab": {
          "base_uri": "https://localhost:8080/",
          "height": 283
        },
        "id": "GmluduP_veYm",
        "outputId": "e30a96a9-0ef0-4e8d-9f7c-9518c5b064ef"
      },
      "outputs": [
        {
          "output_type": "display_data",
          "data": {
            "text/plain": [
              "<Figure size 432x288 with 1 Axes>"
            ],
            "image/png": "[encoded data removed]"
          },
          "metadata": {
            "needs_background": "light"
          }
        }
      ],
      "source": [
        "# preliminary experiment: plotting and view of the fit applied on data\n",
        "# cross_val_predict returns an array of the same size as `y` where each entry\n",
        "# is a prediction obtained by cross validation\n",
        "\n",
        "predictedCrossVal = cross_val_predict(lr, X, y, cv=10)\n",
        "\n",
        "fig, ax = plt.subplots()\n",
        "ax.scatter(y, predictedCrossVal, edgecolors=(0, 1, 0))\n",
        "ax.plot([y.min(), y.max()], [y.min(), y.max()], \"k--\", lw=3)\n",
        "ax.set_xlabel(\"Measured ($USD)\")\n",
        "ax.set_ylabel(\"Predicted ($USD)\")\n",
        "plt.show()"
      ]
    },
    {
      "cell_type": "markdown",
      "metadata": {
        "id": "1JJqnfy3cu84"
      },
      "source": [
        "# 1.2 Feature Transformation"
      ]
    },
    {
      "cell_type": "code",
      "execution_count": null,
      "metadata": {
        "id": "ol9-KkI47iyW"
      },
      "outputs": [],
      "source": [
        "#Here we build our data frame, encode it by passing either \"onehot\", \"label\", or \"both\" through InitData(), then split it into training and testing data\n",
        "\n",
        "transform = False #boolean which determines whether or not a polynomial transformation will be applied to the data\n",
        "\n",
        "train_df = InitData(\"both\")\n",
        "\n",
        "if(transform):\n",
        "  features = 10 #how many columns in the data frame to train the regression models with\n",
        "  M = 2 #the degree of the polynomial which we will transform the df to\n",
        "\n",
        "  corr = train_df.corr()\n",
        "  corr.sort_values([\"SalePrice\"], ascending = False, inplace = True)\n",
        "\n",
        "\n",
        "  y = train_df.iloc[:,-1]\n",
        "  train_df = train_df[corr.SalePrice.keys()[1:features + 1]]\n",
        "  X = train_df.iloc[:, :]\n",
        "  \n",
        "\n",
        "  feature = PolynomialFeature(M)\n",
        "\n",
        "  X= train_df.iloc[:, :-1].values\n",
        "  x_train, x_test, y_train, y_test = train_test_split(X,y)\n",
        "\n",
        "  X_train, X_test = feature.transform(x_train), feature.transform(x_test)\n",
        "\n",
        "  \n",
        "  \n",
        "else:\n",
        "  X, y = train_df.iloc[:, :-1].values, train_df.iloc[:, -1]\n",
        "  X_train, X_test, y_train, y_test = train_test_split(X,y)\n",
        "\n",
        "\n"
      ]
    },
    {
      "cell_type": "code",
      "execution_count": null,
      "metadata": {
        "colab": {
          "base_uri": "https://localhost:8080/"
        },
        "id": "Ob_fnFwc6S9N",
        "outputId": "47db20e8-557f-4ebc-c355-6ba930d8afa6"
      },
      "outputs": [
        {
          "output_type": "execute_result",
          "data": {
            "text/plain": [
              "(1095, 254)"
            ]
          },
          "metadata": {},
          "execution_count": 48
        }
      ],
      "source": [
        "X_train.shape"
      ]
    },
    {
      "cell_type": "code",
      "execution_count": null,
      "metadata": {
        "colab": {
          "base_uri": "https://localhost:8080/"
        },
        "id": "97YxbLX_8llI",
        "outputId": "aecd997a-4226-4935-ca20-e5676dbe1ccd"
      },
      "outputs": [
        {
          "output_type": "stream",
          "name": "stdout",
          "text": [
            "SalePrice       1.000000\n",
            "GrLivArea       0.708624\n",
            "GarageCars      0.640409\n",
            "GarageArea      0.623431\n",
            "TotalBsmtSF     0.613581\n",
            "                  ...   \n",
            "GarageFinish   -0.549247\n",
            "BsmtQual       -0.585207\n",
            "KitchenQual    -0.659600\n",
            "ExterQual      -0.682639\n",
            "OverallQual    -0.790982\n",
            "Name: SalePrice, Length: 80, dtype: float64\n",
            "Index(['GarageQual', 'BsmtFinType1', 'BsmtExposure', 'GarageType', 'HeatingQC',\n",
            "       'FireplaceQu', 'GarageFinish', 'BsmtQual', 'KitchenQual', 'ExterQual'],\n",
            "      dtype='object')\n"
          ]
        }
      ],
      "source": [
        "#check most closely correlated features to sale price for each encoding\n",
        "train_df = InitData(\"label\")\n",
        "corr = train_df.corr()\n",
        "corr.sort_values([\"SalePrice\"], ascending = False, inplace = True)\n",
        "print(corr.SalePrice)\n",
        "print(corr.SalePrice.keys()[-11:-1])"
      ]
    },
    {
      "cell_type": "markdown",
      "metadata": {
        "id": "g5CnKoY1c2uF"
      },
      "source": [
        "# 2.0 Jax Linear Regression"
      ]
    },
    {
      "cell_type": "code",
      "execution_count": null,
      "metadata": {
        "id": "clrMbxhy8hOX"
      },
      "outputs": [],
      "source": [
        "#Basic linear regression following tutorial from https://coax.readthedocs.io/en/latest/examples/linear_regression/jax.html\n",
        "\n",
        "def forwardPass(params, X):\n",
        "  return jnp.dot(X, params['w']) + params['b']\n",
        "\n",
        "def jreg(X, y, learning_rate, iterations, verbose, plot):\n",
        "\n",
        "  y = y.to_numpy()\n",
        "\n",
        "  params = {'w': jnp.zeros(X.shape[1:]),\n",
        "            \"b\" : 0. \n",
        "  }       \n",
        "\n",
        "  def loss_fn(params, X, y):\n",
        "    err = forwardPass(params, X) - y\n",
        "    return jnp.mean(jnp.sqrt(jnp.square(err)))\n",
        "\n",
        "  grad_fn = jax.grad(loss_fn)\n",
        "\n",
        "  eta = learning_rate #0.0001 \n",
        "\n",
        "  def update(params, grads):\n",
        "    return jax.tree_multimap(lambda p, g: p - eta * g, params, grads)\n",
        "\n",
        "  tl = []\n",
        "  for _ in range(iterations):\n",
        "    loss = loss_fn(params, X, y) \n",
        "    grads = grad_fn(params, X, y)\n",
        "    params = update(params, grads)\n",
        "    tl.append(loss)\n",
        "    if(verbose):\n",
        "      print(loss)\n",
        "  if(plot):\n",
        "    f = plt.figure()\n",
        "    plt.plot(tl)\n",
        "    plt.xlabel(\"Epoch\")\n",
        "    plt.ylabel('Training loss')\n",
        "    plt.show()\n",
        "\n",
        "    print(\"Final Loss: \" + str(loss))\n",
        "  return params"
      ]
    },
    {
      "cell_type": "code",
      "execution_count": null,
      "metadata": {
        "colab": {
          "base_uri": "https://localhost:8080/",
          "height": 842
        },
        "id": "KzzMHocLEKAR",
        "outputId": "33362a11-362f-4ba7-d8c9-70663a3c9f5b"
      },
      "outputs": [
        {
          "output_type": "display_data",
          "data": {
            "text/plain": [
              "<Figure size 432x288 with 1 Axes>"
            ],
            "image/png": "[encoded data removed]"
          },
          "metadata": {
            "needs_background": "light"
          }
        },
        {
          "output_type": "stream",
          "name": "stdout",
          "text": [
            "Final Loss: 35292.47\n",
            "Test loss: 43690.387\n"
          ]
        },
        {
          "output_type": "display_data",
          "data": {
            "text/plain": [
              "<Figure size 432x288 with 1 Axes>"
            ],
            "image/png": "[encoded data removed]"
          },
          "metadata": {
            "needs_background": "light"
          }
        },
        {
          "output_type": "display_data",
          "data": {
            "text/plain": [
              "<Figure size 360x288 with 1 Axes>"
            ],
            "image/png": "[encoded data removed]"
          },
          "metadata": {
            "needs_background": "light"
          }
        }
      ],
      "source": [
        "#call to linear regression model built with jax\n",
        "params = jreg(X_train, y_train, learning_rate = 0.0001, iterations = 1000, verbose = False, plot = True) #learning rate may have to be tweaked depending on data processing, in general the more columns in X_train the smaller the learning rate should be\n",
        "print(\"Test loss: \"  + str(rmse(forwardPass(params, X_test), y_test)))\n",
        "\n",
        "plt.figure()\n",
        "plt.scatter(forwardPass(params, X_test), y_test)\n",
        "plt.xlabel(\"Prediction\")\n",
        "plt.ylabel(\"Test Data\")\n",
        "plt.xlim(0, 500000)\n",
        "plt.show()\n",
        "\n",
        "plt.figure(figsize=[5,4])\n",
        "plt.plot(params['b'] + params['w']) \n",
        "plt.xlabel(\"index of $w$\")\n",
        "plt.ylabel(\"$w$\")\n",
        "plt.show()"
      ]
    },
    {
      "cell_type": "markdown",
      "metadata": {
        "id": "oSnqm-DJc8-A"
      },
      "source": [
        "# 2.1 XGBRegressor"
      ]
    },
    {
      "cell_type": "code",
      "execution_count": null,
      "metadata": {
        "colab": {
          "base_uri": "https://localhost:8080/",
          "height": 297
        },
        "id": "mZKby_Pb9QFd",
        "outputId": "fa2e434b-c62c-4dd0-ef25-aba2e7a10181"
      },
      "outputs": [
        {
          "output_type": "stream",
          "name": "stdout",
          "text": [
            "Mean squared error: 17968.025\n"
          ]
        },
        {
          "output_type": "display_data",
          "data": {
            "text/plain": [
              "<Figure size 432x288 with 1 Axes>"
            ],
            "image/png": "[encoded data removed]"
          },
          "metadata": {
            "needs_background": "light"
          }
        }
      ],
      "source": [
        "#xgbregressor call\n",
        "#model = XGBRegressor()\n",
        "model = XGBRegressor(colsample_bytree = 0.87, eta = 0.001, max_depth=4, n_estimators=111, subsample=0.4207, verbosity=0) # verbosity set to 0 to suppress warnings\n",
        "#model = XGBRegressor(colsample_bytree=0.4603, gamma=0.0468, \n",
        "                            #  learning_rate=0.05, max_depth=3, \n",
        "                            #  min_child_weight=1.7817, n_estimators=2200,\n",
        "                            #  reg_alpha=0.4640, reg_lambda=0.8571,\n",
        "                            #  subsample=0.5213, silent=1,\n",
        "                            #  random_state =7, nthread = -1) \n",
        "model.fit(X_train, y_train)\n",
        "prediction = model.predict(X_test)\n",
        "\n",
        "print(\"Mean squared error: \" + str(rmse(prediction, y_test)))\n",
        "f = plt.figure()\n",
        "plt.scatter(prediction, y_test)\n",
        "plt.ylabel(\"Test Data\")\n",
        "plt.xlabel(\"Prediction\")\n",
        "plt.show()\n"
      ]
    },
    {
      "cell_type": "markdown",
      "metadata": {
        "id": "aLTZQBu6dESC"
      },
      "source": [
        "# 2.2 Implementation of Linear Regression from \"Pattern Recognition and Machine Learning\""
      ]
    },
    {
      "cell_type": "code",
      "execution_count": null,
      "metadata": {
        "colab": {
          "base_uri": "https://localhost:8080/",
          "height": 561
        },
        "id": "M9CTDsOL9WqS",
        "outputId": "2ffe58ec-c702-47ae-9ae8-e65ad6331a2a"
      },
      "outputs": [
        {
          "output_type": "stream",
          "name": "stdout",
          "text": [
            "Mean squared error: 22467.404\n"
          ]
        },
        {
          "output_type": "display_data",
          "data": {
            "text/plain": [
              "<Figure size 360x288 with 1 Axes>"
            ],
            "image/png": "[encoded data removed]"
          },
          "metadata": {
            "needs_background": "light"
          }
        },
        {
          "output_type": "display_data",
          "data": {
            "text/plain": [
              "<Figure size 432x288 with 1 Axes>"
            ],
            "image/png": "[encoded data removed]"
          },
          "metadata": {
            "needs_background": "light"
          }
        }
      ],
      "source": [
        "#linear regression from pmrl\n",
        "\n",
        "model = LinearRegression()\n",
        "model.fit(X_train, y_train)\n",
        "\n",
        "\n",
        "plt.figure(figsize=[5,4])\n",
        "plt.plot(model.w) \n",
        "plt.xlabel(\"index of $w$\")\n",
        "plt.ylabel(\"$w$\")\n",
        "\n",
        "y, y_std = model.predict(X_test, return_std=True)\n",
        "\n",
        "print(\"Mean squared error: \" + str(rmse(y, y_test)))\n",
        "\n",
        "f = plt.figure()\n",
        "plt.scatter(y, y_test)\n",
        "plt.ylabel(\"Test Data\")\n",
        "plt.xlabel(\"Prediction\")\n",
        "plt.show()\n",
        "\n",
        "\n",
        "# plt.figure(figsize=[10,8])\n",
        "\n",
        "# plt.scatter(X_train, y_train, facecolor=\"none\", edgecolor=\"b\", s=50, label=\"training data\")\n",
        "# plt.plot(x_test, y, label=\"mean\")\n",
        "# plt.fill_between(\n",
        "#     x_test, y - y_std, y + y_std,\n",
        "#     color=\"orange\", alpha=0.5, label=\"std.\")\n",
        "# plt.legend()\n",
        "# plt.xlabel(\"$x$\")\n",
        "# plt.ylabel(\"$y$\")\n",
        "\n",
        "# plt.show()"
      ]
    },
    {
      "cell_type": "markdown",
      "metadata": {
        "id": "pCtGq5-YdK6x"
      },
      "source": [
        "# 3.0 Hyper-parameter Tuning of XGBRegressor"
      ]
    },
    {
      "cell_type": "code",
      "execution_count": null,
      "metadata": {
        "colab": {
          "background_save": true,
          "base_uri": "https://localhost:8080/"
        },
        "id": "NpJ-m3R396qc",
        "outputId": "ce618e93-9bc2-41aa-f6dd-f84640a34dec"
      },
      "outputs": [
        {
          "output_type": "stream",
          "name": "stdout",
          "text": [
            " 71%|███████▏  | 357/500 [10:12<04:45,  1.99s/it, best loss: 26889.189473398466]"
          ]
        }
      ],
      "source": [
        "#hyperparameter tuning using hyperopt\n",
        "\n",
        "def objectiveXGBR(space):\n",
        "    reg = XGBRegressor(n_estimators=int(space['n_estimators']), \n",
        "        max_depth=int(space['max_depth']), \n",
        "        eta=space[\"eta\"], \n",
        "        colsample_bytree = space[\"colsample_bytree\"],\n",
        "        subsample = space[\"subsample\"],\n",
        "        verbosity = 0)\n",
        "\n",
        "    ts = [(X[X.shape[0]//2:], y[y.shape[0]//2:]), (X[:X.shape[0]//2], y[:y.shape[0]//2])] #training\n",
        "    \n",
        "    reg.fit(X_train, y_train, eval_set=[(X_train, y_train), (X_test, y_test)], eval_metric='rmse', verbose=False)\n",
        "\n",
        "    yhat = reg.predict(X_test)\n",
        "    accuracy = mean_squared_error(y_test, yhat, squared = False)\n",
        "\n",
        "    #print (\"SCORE:\", accuracy)\n",
        "    return {'loss': accuracy, 'status': STATUS_OK }\n",
        "\n",
        "\n",
        "spaceXGBR={'max_depth': hp.quniform(\"max_depth\", 0, 20, 1),\n",
        "        'eta' : hp.choice(\"eta\", [0.3, 0.1, 0.001, 0.003]),\n",
        "        'colsample_bytree' : hp.uniform('colsample_bytree', 0.5,1),\n",
        "        'n_estimators': hp.quniform(\"n_estimators\", 5, 200, 1),\n",
        "        'subsample': hp.uniform(\"subsample\", 0.4, .9)\n",
        "    }\n",
        "\n",
        "\n",
        "\n",
        "trials = Trials()\n",
        "\n",
        "\n",
        "best_hyperparams = fmin(fn = objectiveXGBR,\n",
        "                        space = spaceXGBR,\n",
        "                        algo = tpe.suggest,\n",
        "                        max_evals = 500,\n",
        "                        trials = trials,\n",
        "                        verbose=False)\n",
        "print(\"The best hyperparameters are : \",\"\\n\")\n",
        "print(best_hyperparams)\n"
      ]
    },
    {
      "cell_type": "code",
      "execution_count": null,
      "metadata": {
        "colab": {
          "background_save": true
        },
        "id": "TDwwdxcFCM3S"
      },
      "outputs": [],
      "source": [
        "#linear regression in jax\n",
        "\n",
        "#main question we need to answer is how many parameters we want to use\n",
        "\n",
        "def jreg_boost(X, y, num_estimators, learning_rate, iterations, verbose = False): #pass num_estimators, eta, iterations, (possibly num_parameters)\n",
        "  eta = learning_rate #should this be passed through jreg() as a parameter so that we can tune it with hyperopt? We can also pass, iterations as a parameter\n",
        "\n",
        "  y = y.to_numpy()\n",
        "  params = {'w': jnp.zeros(X.shape[1:]),\n",
        "            \"b\" : 0. \n",
        "  } \n",
        "\n",
        "\n",
        "  def forwardPass(params, X):\n",
        "    return jnp.dot(X, params['w']) + params['b'] #not working as of right now, definitely a result of the X which gets passed through, issue is with data set itself\n",
        "\n",
        "\n",
        "  def loss_fn(params, X, y, previous_loss):\n",
        "    err = forwardPass(params, X) - y\n",
        "    #err = jnp.dot(err, previous_loss)\n",
        "    err += previous_loss\n",
        "    return jnp.mean(jnp.sqrt(jnp.square(err)))\n",
        "\n",
        "  def loss_fn_org(params, X, y):\n",
        "    err = forwardPass(params, X) - y\n",
        "    return jnp.mean(jnp.sqrt(jnp.square(err)))\n",
        "\n",
        "  grad_fn = jax.grad(loss_fn)\n",
        "\n",
        "\n",
        "\n",
        "  def update(params, grads):\n",
        "    return jax.tree_multimap(lambda p, g: p - eta * g, params, grads)\n",
        "  \n",
        "  prev_loss = jnp.ones(X.shape[0])\n",
        "  \n",
        "  tl = []\n",
        "  for __ in range(num_estimators):      \n",
        "    for _ in range(iterations):\n",
        "      loss = loss_fn_org(params, X, y) #we can also save these values to a list and track training loss over each iteration\n",
        "\n",
        "      if(verbose):\n",
        "        print(loss)\n",
        "        #print(params)\n",
        "      tl.append(loss)\n",
        "      grads = grad_fn(params, X, y, prev_loss)\n",
        "      params = update(params, grads)\n",
        "\n",
        "    if verbose:\n",
        "      print(\"Error of estimator \" + str(__) + \": \" + str(loss))\n",
        "    curr_loss = forwardPass(params, X) - y\n",
        "    prev_loss = (curr_loss-min(curr_loss))/(max(curr_loss) - min(curr_loss))\n",
        "    prev_loss = (prev_loss-min(prev_loss))/(max(prev_loss) - min(prev_loss))\n",
        "  f = plt.figure()\n",
        "  plt.plot(tl)\n",
        "  plt.xlabel(\"Epoch\")\n",
        "  plt.ylabel('Training loss')\n",
        "  plt.show()\n",
        "  return params\n"
      ]
    },
    {
      "cell_type": "code",
      "execution_count": null,
      "metadata": {
        "colab": {
          "background_save": true
        },
        "id": "EwxN1scmCRok"
      },
      "outputs": [],
      "source": [
        "#call to linear regression model built with jax\n",
        "params = jreg_boost(X_train, y_train, num_estimators = 250, learning_rate = 0.00001, iterations = 50, verbose = False) #learning rate may have to be tweaked depending on data processing, in general the more columns in X_train the smaller the learning rate should be\n",
        "print(\"Test loss: \"  + str(rmse(forwardPass(params, X_test), y_test)))\n",
        "\n",
        "plt.figure()\n",
        "plt.scatter(forwardPass(params, X_test), y_test)\n",
        "plt.xlabel(\"Prediction\")\n",
        "plt.ylabel(\"Test Data\")\n",
        "plt.xlim(0, 500000)\n",
        "plt.show()\n",
        "\n",
        "plt.figure(figsize=[5,4])\n",
        "plt.plot(params['b'] + params['w']) \n",
        "plt.xlabel(\"index of $w$\")\n",
        "plt.ylabel(\"$w$\")\n",
        "plt.show()"
      ]
    },
    {
      "cell_type": "markdown",
      "metadata": {
        "id": "n5btUa5whzYx"
      },
      "source": [
        "# 4.0 Jit Compilation in Jax"
      ]
    },
    {
      "cell_type": "code",
      "execution_count": null,
      "metadata": {
        "colab": {
          "background_save": true
        },
        "id": "BCGOc1QakwRX"
      },
      "outputs": [],
      "source": [
        "def jreg_jit(X, y, learning_rate, iterations, verbose):\n",
        "  @jax.jit\n",
        "  def forwardPass(params, X):\n",
        "    return jnp.dot(X, params['w']) + params['b']\n",
        "\n",
        "  y = y.to_numpy()\n",
        "\n",
        "  params = {'w': jnp.zeros(X.shape[1:]),\n",
        "            \"b\" : 0. \n",
        "  }       \n",
        "  @jax.jit\n",
        "  def loss_fn(params, X, y):\n",
        "    err = forwardPass(params, X) - y\n",
        "    return jnp.mean(jnp.sqrt(jnp.square(err)))\n",
        "\n",
        "  grad_fn = jax.grad(loss_fn)\n",
        "\n",
        "  eta = learning_rate #0.0001 \n",
        "  @jax.jit\n",
        "  def update(params, grads):\n",
        "    return jax.tree_multimap(lambda p, g: p - eta * g, params, grads)\n",
        "\n",
        "  tl = []\n",
        "  for _ in range(iterations):\n",
        "    loss = loss_fn(params, X, y) \n",
        "    grads = grad_fn(params, X, y)\n",
        "    params = update(params, grads)\n",
        "    tl.append(loss)\n",
        "    if(verbose):\n",
        "      print(loss)\n",
        "\n",
        "  #print(\"Final Loss: \" + str(loss))\n",
        "  return params"
      ]
    },
    {
      "cell_type": "code",
      "execution_count": null,
      "metadata": {
        "colab": {
          "background_save": true
        },
        "id": "yNLeiUc2lYTw"
      },
      "outputs": [],
      "source": [
        "\n",
        "print(\"Duration of jreg() WITHOUT jax's jit compilation: \")\n",
        "%timeit jreg(X_train, y_train, 0.000000001, 150, verbose = False, plot = False)   \n",
        "print(\"\\nvs.\\n\\nDuration of jreg() WITH jit compilation:\")\n",
        "%timeit jreg_jit(X_train, y_train, 0.000000001, 150, verbose = False) "
      ]
    }
  ],
  "metadata": {
    "colab": {
      "collapsed_sections": [],
      "name": "HousePricesFinal.ipynb",
      "provenance": []
    },
    "kernelspec": {
      "display_name": "Python 3",
      "name": "python3"
    },
    "language_info": {
      "name": "python"
    }
  },
  "nbformat": 4,
  "nbformat_minor": 0
}